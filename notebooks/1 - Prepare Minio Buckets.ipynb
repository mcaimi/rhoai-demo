{
 "cells": [
  {
   "cell_type": "code",
   "execution_count": 1,
   "id": "c12cb822-e6c3-4c79-98b2-1da29dddbfed",
   "metadata": {
    "tags": []
   },
   "outputs": [
    {
     "name": "stdout",
     "output_type": "stream",
     "text": [
      "Requirement already satisfied: pip in /opt/app-root/lib/python3.9/site-packages (24.0)\n",
      "Requirement already satisfied: boto3 in /opt/app-root/lib/python3.9/site-packages (1.26.165)\n",
      "Requirement already satisfied: huggingface_hub in /opt/app-root/lib/python3.9/site-packages (0.23.4)\n",
      "Requirement already satisfied: botocore<1.30.0,>=1.29.165 in /opt/app-root/lib/python3.9/site-packages (from boto3) (1.29.165)\n",
      "Requirement already satisfied: jmespath<2.0.0,>=0.7.1 in /opt/app-root/lib/python3.9/site-packages (from boto3) (1.0.1)\n",
      "Requirement already satisfied: s3transfer<0.7.0,>=0.6.0 in /opt/app-root/lib/python3.9/site-packages (from boto3) (0.6.2)\n",
      "Requirement already satisfied: filelock in /opt/app-root/lib/python3.9/site-packages (from huggingface_hub) (3.15.3)\n",
      "Requirement already satisfied: fsspec>=2023.5.0 in /opt/app-root/lib/python3.9/site-packages (from huggingface_hub) (2024.5.0)\n",
      "Requirement already satisfied: packaging>=20.9 in /opt/app-root/lib/python3.9/site-packages (from huggingface_hub) (23.2)\n",
      "Requirement already satisfied: pyyaml>=5.1 in /opt/app-root/lib/python3.9/site-packages (from huggingface_hub) (6.0.1)\n",
      "Requirement already satisfied: requests in /opt/app-root/lib/python3.9/site-packages (from huggingface_hub) (2.32.3)\n",
      "Requirement already satisfied: tqdm>=4.42.1 in /opt/app-root/lib/python3.9/site-packages (from huggingface_hub) (4.66.4)\n",
      "Requirement already satisfied: typing-extensions>=3.7.4.3 in /opt/app-root/lib/python3.9/site-packages (from huggingface_hub) (4.9.0)\n",
      "Requirement already satisfied: python-dateutil<3.0.0,>=2.1 in /opt/app-root/lib/python3.9/site-packages (from botocore<1.30.0,>=1.29.165->boto3) (2.8.2)\n",
      "Requirement already satisfied: urllib3<1.27,>=1.25.4 in /opt/app-root/lib/python3.9/site-packages (from botocore<1.30.0,>=1.29.165->boto3) (1.26.18)\n",
      "Requirement already satisfied: charset-normalizer<4,>=2 in /opt/app-root/lib/python3.9/site-packages (from requests->huggingface_hub) (3.3.2)\n",
      "Requirement already satisfied: idna<4,>=2.5 in /opt/app-root/lib/python3.9/site-packages (from requests->huggingface_hub) (3.6)\n",
      "Requirement already satisfied: certifi>=2017.4.17 in /opt/app-root/lib/python3.9/site-packages (from requests->huggingface_hub) (2023.11.17)\n",
      "Requirement already satisfied: six>=1.5 in /opt/app-root/lib/python3.9/site-packages (from python-dateutil<3.0.0,>=2.1->botocore<1.30.0,>=1.29.165->boto3) (1.16.0)\n"
     ]
    }
   ],
   "source": [
    "!pip install -U pip\n",
    "!pip install boto3 huggingface_hub"
   ]
  },
  {
   "cell_type": "code",
   "execution_count": 2,
   "id": "b29b97c2-44d7-4120-97f4-739ca2321b2d",
   "metadata": {},
   "outputs": [],
   "source": [
    "# import required libraries\n",
    "import os, yaml, sys, threading\n",
    "from pathlib import Path\n",
    "try:\n",
    "    import boto3\n",
    "    from boto3.s3.transfer import TransferConfig\n",
    "    from botocore.exceptions import ClientError\n",
    "    import huggingface_hub as hf\n",
    "except Exception as e:\n",
    "    print(f\"Exception during library import: {e}\")\n",
    "    exit()"
   ]
  },
  {
   "cell_type": "code",
   "execution_count": 3,
   "id": "64beacd7-3b61-4740-8b49-a4ec7c14e203",
   "metadata": {
    "tags": []
   },
   "outputs": [],
   "source": [
    "# dictionary class that holds parameters\n",
    "# load values from a yaml file\n",
    "class Parameters(object):\n",
    "    def __init__(self, data: dict):\n",
    "        if type(data) != dict:\n",
    "            raise TypeError(f\"Parameters: expected 'dict', got {type(data)}.\")\n",
    "        else:\n",
    "            self.data = data\n",
    "\n",
    "        for k in self.data.keys():\n",
    "            if type(self.data.get(k)) != dict:\n",
    "                self.__setattr__(k, self.data.get(k))\n",
    "            else:\n",
    "                self.__setattr__(k, Parameters(self.data.get(k)))\n",
    "\n",
    "# shamelessly stolen from aws docs :D\n",
    "class ProgressPercentage(object):\n",
    "    def __init__(self, filename):\n",
    "        self._filename = filename\n",
    "        self._size = float(os.path.getsize(filename))\n",
    "        self._seen_so_far = 0\n",
    "        self._lock = threading.Lock()\n",
    "\n",
    "    def __call__(self, bytes_amount):\n",
    "        # To simplify, assume this is hooked up to a single filename\n",
    "        with self._lock:\n",
    "            self._seen_so_far += bytes_amount\n",
    "            percentage = (self._seen_so_far / self._size) * 100\n",
    "            sys.stdout.write(\n",
    "                \"\\r%s  %s / %s  (%.2f%%)\" % (\n",
    "                    self._filename, self._seen_so_far, self._size,\n",
    "                    percentage))\n",
    "            sys.stdout.flush()"
   ]
  },
  {
   "cell_type": "code",
   "execution_count": 4,
   "id": "aa8c265c-9d88-47da-a1a8-826cf75a1e61",
   "metadata": {
    "tags": []
   },
   "outputs": [],
   "source": [
    "# load parameters file and read values into a dictionary class\n",
    "try:\n",
    "    with open(\"parameters.yaml\") as parms:\n",
    "        config_parms = yaml.safe_load(parms)\n",
    "    creds = Parameters(config_parms)\n",
    "except yaml.YAMLError as e:\n",
    "    print(f\"Error loading YAML file: {e}\")\n",
    "    exit()\n",
    "except Exception as e:\n",
    "    print(f\"Caught exception: {e}\")\n",
    "    exit()"
   ]
  },
  {
   "cell_type": "code",
   "execution_count": 5,
   "id": "ba110732-bd02-4c3f-94e4-97044f510f47",
   "metadata": {
    "tags": []
   },
   "outputs": [
    {
     "name": "stdout",
     "output_type": "stream",
     "text": [
      "Accessing S3 endpoint http://minio-svc.minio.svc.cluster.local:9000 with ACCESS_KEY O3wC8Aoi1e46YSoJerUm...\n",
      "-> Creating bucket models...\n",
      "--> Bucket (models) Already Exists. Skipping...\n",
      "-> Creating bucket artifacts...\n",
      "--> Bucket (artifacts) Already Exists. Skipping...\n",
      "-> Creating bucket pipelines...\n",
      "--> Bucket (pipelines) Already Exists. Skipping...\n",
      "-> Creating bucket trainingdata...\n",
      "--> Bucket (trainingdata) Already Exists. Skipping...\n",
      "-> Creating bucket onnx...\n",
      "--> Bucket (onnx) Already Exists. Skipping...\n",
      "-> Creating bucket quantized...\n"
     ]
    }
   ],
   "source": [
    "# connect to MinIO and prepare buckets\n",
    "print(f\"Accessing S3 endpoint {creds.params.url} with ACCESS_KEY {creds.params.accessKey}...\")\n",
    "\n",
    "# instantiate connection\n",
    "minio_api = boto3.client(\"s3\", endpoint_url=creds.params.url, aws_access_key_id=creds.params.accessKey, aws_secret_access_key=creds.params.secretKey)\n",
    "\n",
    "# Create the models bucket\n",
    "available_buckets = [buckets[\"Name\"] for buckets in minio_api.list_buckets()[\"Buckets\"]]\n",
    "for bckname in creds.s3.bucket_list:\n",
    "    print(f\"-> Creating bucket {bckname}...\")\n",
    "    if bckname not in available_buckets:\n",
    "        try:\n",
    "            minio_api.create_bucket(Bucket=bckname)\n",
    "        except Exception as e:\n",
    "            print(f\"Failure during bucket creation due to this error: {e}\")\n",
    "    else:\n",
    "        print(f\"--> Bucket ({bckname}) Already Exists. Skipping...\")\n"
   ]
  },
  {
   "cell_type": "code",
   "execution_count": 6,
   "id": "cbc5aff6-71e4-4ffb-a1cf-94de3d58401d",
   "metadata": {
    "tags": []
   },
   "outputs": [
    {
     "name": "stdout",
     "output_type": "stream",
     "text": [
      "Downloading model checkpoint: mistralai/mistral-7B-v0.3\n"
     ]
    },
    {
     "data": {
      "application/vnd.jupyter.widget-view+json": {
       "model_id": "5f7233892929489faa56943adf73b826",
       "version_major": 2,
       "version_minor": 0
      },
      "text/plain": [
       "Fetching 10 files:   0%|          | 0/10 [00:00<?, ?it/s]"
      ]
     },
     "metadata": {},
     "output_type": "display_data"
    },
    {
     "name": "stdout",
     "output_type": "stream",
     "text": [
      "Downloaded model checkpoint /opt/app-root/src/model_checkpoints/mistralai/mistral-7B-v0.3\n"
     ]
    },
    {
     "data": {
      "application/vnd.jupyter.widget-view+json": {
       "model_id": "0a64d82bc12248588f757e64aecc9fd5",
       "version_major": 2,
       "version_minor": 0
      },
      "text/plain": [
       "Fetching 10 files:   0%|          | 0/10 [00:00<?, ?it/s]"
      ]
     },
     "metadata": {},
     "output_type": "display_data"
    },
    {
     "name": "stdout",
     "output_type": "stream",
     "text": [
      "Downloaded model checkpoint /opt/app-root/src/model_checkpoints/mistralai/mistral-7B-v0.3\n"
     ]
    },
    {
     "data": {
      "application/vnd.jupyter.widget-view+json": {
       "model_id": "42955e24b2be493e9e5c96856bff9f8e",
       "version_major": 2,
       "version_minor": 0
      },
      "text/plain": [
       "Fetching 10 files:   0%|          | 0/10 [00:00<?, ?it/s]"
      ]
     },
     "metadata": {},
     "output_type": "display_data"
    },
    {
     "name": "stdout",
     "output_type": "stream",
     "text": [
      "Downloaded model checkpoint /opt/app-root/src/model_checkpoints/mistralai/mistral-7B-v0.3\n"
     ]
    },
    {
     "data": {
      "application/vnd.jupyter.widget-view+json": {
       "model_id": "e01b5083f52446d19aa61ace0ee85abb",
       "version_major": 2,
       "version_minor": 0
      },
      "text/plain": [
       "Fetching 10 files:   0%|          | 0/10 [00:00<?, ?it/s]"
      ]
     },
     "metadata": {},
     "output_type": "display_data"
    },
    {
     "name": "stdout",
     "output_type": "stream",
     "text": [
      "Downloaded model checkpoint /opt/app-root/src/model_checkpoints/mistralai/mistral-7B-v0.3\n"
     ]
    },
    {
     "data": {
      "application/vnd.jupyter.widget-view+json": {
       "model_id": "c3d58665ed954668ab12c9205167e5c0",
       "version_major": 2,
       "version_minor": 0
      },
      "text/plain": [
       "Fetching 10 files:   0%|          | 0/10 [00:00<?, ?it/s]"
      ]
     },
     "metadata": {},
     "output_type": "display_data"
    },
    {
     "name": "stdout",
     "output_type": "stream",
     "text": [
      "Downloaded model checkpoint /opt/app-root/src/model_checkpoints/mistralai/mistral-7B-v0.3\n"
     ]
    },
    {
     "data": {
      "application/vnd.jupyter.widget-view+json": {
       "model_id": "33a01632c9e34062b1f64f245557a173",
       "version_major": 2,
       "version_minor": 0
      },
      "text/plain": [
       "Fetching 10 files:   0%|          | 0/10 [00:00<?, ?it/s]"
      ]
     },
     "metadata": {},
     "output_type": "display_data"
    },
    {
     "name": "stdout",
     "output_type": "stream",
     "text": [
      "Downloaded model checkpoint /opt/app-root/src/model_checkpoints/mistralai/mistral-7B-v0.3\n"
     ]
    },
    {
     "data": {
      "application/vnd.jupyter.widget-view+json": {
       "model_id": "056996b353d049d2b7cfea9538758349",
       "version_major": 2,
       "version_minor": 0
      },
      "text/plain": [
       "Fetching 10 files:   0%|          | 0/10 [00:00<?, ?it/s]"
      ]
     },
     "metadata": {},
     "output_type": "display_data"
    },
    {
     "name": "stdout",
     "output_type": "stream",
     "text": [
      "Downloaded model checkpoint /opt/app-root/src/model_checkpoints/mistralai/mistral-7B-v0.3\n"
     ]
    },
    {
     "data": {
      "application/vnd.jupyter.widget-view+json": {
       "model_id": "996ab22d23674305ba58e6d6fac7331e",
       "version_major": 2,
       "version_minor": 0
      },
      "text/plain": [
       "Fetching 10 files:   0%|          | 0/10 [00:00<?, ?it/s]"
      ]
     },
     "metadata": {},
     "output_type": "display_data"
    },
    {
     "name": "stdout",
     "output_type": "stream",
     "text": [
      "Downloaded model checkpoint /opt/app-root/src/model_checkpoints/mistralai/mistral-7B-v0.3\n"
     ]
    },
    {
     "data": {
      "application/vnd.jupyter.widget-view+json": {
       "model_id": "94fb51b2b216491f96497ae4a4d958b3",
       "version_major": 2,
       "version_minor": 0
      },
      "text/plain": [
       "Fetching 10 files:   0%|          | 0/10 [00:00<?, ?it/s]"
      ]
     },
     "metadata": {},
     "output_type": "display_data"
    },
    {
     "name": "stdout",
     "output_type": "stream",
     "text": [
      "Downloaded model checkpoint /opt/app-root/src/model_checkpoints/mistralai/mistral-7B-v0.3\n"
     ]
    },
    {
     "data": {
      "application/vnd.jupyter.widget-view+json": {
       "model_id": "52ec0a78b8f241e5841e9691fdb196c5",
       "version_major": 2,
       "version_minor": 0
      },
      "text/plain": [
       "Fetching 10 files:   0%|          | 0/10 [00:00<?, ?it/s]"
      ]
     },
     "metadata": {},
     "output_type": "display_data"
    },
    {
     "name": "stdout",
     "output_type": "stream",
     "text": [
      "Downloaded model checkpoint /opt/app-root/src/model_checkpoints/mistralai/mistral-7B-v0.3\n"
     ]
    }
   ],
   "source": [
    "# Download model checkpoint from HuggingFace repositories\n",
    "os.environ[\"HF_HOME\"] = creds.huggingface.hfHomePath\n",
    "remote_model_objects = {}\n",
    "mistral_models_path = \"/\".join((creds.huggingface.modelsPath, creds.huggingface.modelName))\n",
    "os.makedirs(mistral_models_path, exist_ok=True)\n",
    "\n",
    "print(f\"Downloading model checkpoint: {creds.huggingface.modelName}\")\n",
    "for name in creds.huggingface.filenames:\n",
    "    model_path = hf.snapshot_download(repo_id=creds.huggingface.modelName, \n",
    "                                        allow_patterns=creds.huggingface.filenames, \n",
    "                                        revision=\"main\", \n",
    "                                        token=creds.huggingface.apiToken,\n",
    "                                        local_dir=mistral_models_path)\n",
    "    print(f\"Downloaded model checkpoint {model_path}\")\n",
    "    for n in creds.huggingface.filenames:\n",
    "        remote_model_objects[\"/\".join((model_path, n))] = n"
   ]
  },
  {
   "cell_type": "code",
   "execution_count": 7,
   "id": "1f05d6b9-f0f4-49ca-949d-7e02e8b93e6f",
   "metadata": {
    "tags": []
   },
   "outputs": [],
   "source": [
    "# checks whether a file exists in a remote bucket\n",
    "def check_exists(s3api, bucket, filename):\n",
    "    rsp = s3api.list_objects_v2(Bucket=bucket, Prefix=filename)\n",
    "    try:\n",
    "        contents = rsp.get(\"Contents\")\n",
    "        files = [ obj.get(\"Key\") for obj in contents ]\n",
    "        if filename in files:\n",
    "            return True\n",
    "        else:\n",
    "            return False\n",
    "    except Exception as e:\n",
    "        return False"
   ]
  },
  {
   "cell_type": "code",
   "execution_count": 8,
   "id": "8970f461-2967-4b59-9da2-9969cb3aad76",
   "metadata": {
    "tags": []
   },
   "outputs": [
    {
     "name": "stdout",
     "output_type": "stream",
     "text": [
      "File /opt/app-root/src/model_checkpoints/mistralai/mistral-7B-v0.3/model-00001-of-00003.safetensors already exists in models\n",
      "File /opt/app-root/src/model_checkpoints/mistralai/mistral-7B-v0.3/model-00002-of-00003.safetensors already exists in models\n",
      "File /opt/app-root/src/model_checkpoints/mistralai/mistral-7B-v0.3/model-00003-of-00003.safetensors already exists in models\n",
      "File /opt/app-root/src/model_checkpoints/mistralai/mistral-7B-v0.3/model.safetensors.index.json already exists in models\n",
      "File /opt/app-root/src/model_checkpoints/mistralai/mistral-7B-v0.3/config.json already exists in models\n",
      "File /opt/app-root/src/model_checkpoints/mistralai/mistral-7B-v0.3/params.json already exists in models\n",
      "File /opt/app-root/src/model_checkpoints/mistralai/mistral-7B-v0.3/tokenizer.model already exists in models\n",
      "File /opt/app-root/src/model_checkpoints/mistralai/mistral-7B-v0.3/tokenizer.json already exists in models\n",
      "File /opt/app-root/src/model_checkpoints/mistralai/mistral-7B-v0.3/tokenizer_config.json already exists in models\n",
      "File /opt/app-root/src/model_checkpoints/mistralai/mistral-7B-v0.3/special_tokens_map.json already exists in models\n",
      "Upload Complete.\n"
     ]
    }
   ],
   "source": [
    "# Set the desired multipart threshold value (5GB)\n",
    "GB = 1024 ** 3\n",
    "transfer_config = TransferConfig(multipart_threshold = 5*GB, use_threads=True)\n",
    "\n",
    "try:\n",
    "    for k in remote_model_objects.keys():\n",
    "        if not check_exists(minio_api, creds.huggingface.modelBucket, remote_model_objects[k]):\n",
    "            print(f\"Uploading {remote_model_objects[k]} to MinIO bucket {creds.huggingface.modelBucket}\")\n",
    "            minio_api.upload_file(k, creds.huggingface.modelBucket,\n",
    "                                    remote_model_objects[k],\n",
    "                                    Callback=ProgressPercentage(k),\n",
    "                                    Config=transfer_config)\n",
    "            print(\"---\")\n",
    "        else:\n",
    "            print(f\"File {k} already exists in {creds.huggingface.modelBucket}\")\n",
    "except ClientError as e:\n",
    "    print(f\"S3 Exception: {e.response['Error']['Code']}, trace: {e}\")   \n",
    "except Exception as e:\n",
    "    print(f\"Caught exception: {e}\")\n",
    "    \n",
    "print(\"Upload Complete.\")"
   ]
  },
  {
   "cell_type": "code",
   "execution_count": 9,
   "id": "c8dd1d3a-3d4e-4d74-a430-2d9a362768f6",
   "metadata": {
    "tags": []
   },
   "outputs": [
    {
     "name": "stdout",
     "output_type": "stream",
     "text": [
      "File training_data/rfc4226.txt already exists in trainingdata\n",
      "File training_data/rfc2104.txt already exists in trainingdata\n",
      "File training_data/rfc6238.txt already exists in trainingdata\n",
      "Upload Complete\n"
     ]
    }
   ],
   "source": [
    "# Upload training dataset (data for vectorization)\n",
    "data_path = Path(\"training_data\")\n",
    "\n",
    "for file in list(data_path.glob(\"**/*.txt\")):\n",
    "    try:\n",
    "        if not check_exists(minio_api, creds.training_data.trainingDataBucket, os.path.basename(file)):\n",
    "            print(f\"Uploading {file} to MinIO bucket {creds.training_data.trainingDataBucket}\")\n",
    "            minio_api.upload_file(file,\n",
    "                                  creds.training_data.trainingDataBucket,\n",
    "                                  os.path.basename(file),\n",
    "                                  Callback=ProgressPercentage(file),\n",
    "                                  Config=transfer_config)\n",
    "            print(\"---\")\n",
    "        else:\n",
    "            print(f\"File {file} already exists in {creds.training_data.trainingDataBucket}\")\n",
    "    except Exception as e:\n",
    "        print(f\"Caught exception: {e}\")\n",
    "\n",
    "print(f\"Upload Complete\")"
   ]
  },
  {
   "cell_type": "code",
   "execution_count": null,
   "id": "0bb17b52-effe-4f0a-9dc6-321663e4cdf7",
   "metadata": {},
   "outputs": [],
   "source": []
  }
 ],
 "metadata": {
  "kernelspec": {
   "display_name": "Python 3.9",
   "language": "python",
   "name": "python3"
  },
  "language_info": {
   "codemirror_mode": {
    "name": "ipython",
    "version": 3
   },
   "file_extension": ".py",
   "mimetype": "text/x-python",
   "name": "python",
   "nbconvert_exporter": "python",
   "pygments_lexer": "ipython3",
   "version": "3.9.18"
  }
 },
 "nbformat": 4,
 "nbformat_minor": 5
}
